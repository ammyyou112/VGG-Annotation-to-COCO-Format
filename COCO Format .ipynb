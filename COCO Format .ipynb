{
 "cells": [
  {
   "cell_type": "code",
   "execution_count": 1,
   "id": "5ad5149c",
   "metadata": {},
   "outputs": [],
   "source": [
    "import json"
   ]
  },
  {
   "cell_type": "code",
   "execution_count": 2,
   "id": "bddf5ac8",
   "metadata": {},
   "outputs": [
    {
     "name": "stdout",
     "output_type": "stream",
     "text": [
      "{'_via_settings': {'ui': {'annotation_editor_height': 25, 'annotation_editor_fontsize': 0.8, 'leftsidebar_width': 18, 'image_grid': {'img_height': 80, 'rshape_fill': 'none', 'rshape_fill_opacity': 0.3, 'rshape_stroke': 'yellow', 'rshape_stroke_width': 2, 'show_region_shape': True, 'show_image_policy': 'all'}, 'image': {'region_label': 'class', 'region_color': '__via_default_region_color__', 'region_label_font': '10px Sans', 'on_image_annotation_editor_placement': 'NEAR_REGION'}}, 'core': {'buffer_size': 18, 'filepath': {}, 'default_filepath': ''}, 'project': {'name': 'via_project_18Oct2022_11h49m'}}, '_via_img_metadata': {'1.jpeg45602': {'filename': '1.jpeg', 'size': 45602, 'regions': [{'shape_attributes': {'name': 'rect', 'x': 284, 'y': 27, 'width': 365, 'height': 478}, 'region_attributes': {'class': {'dog': True}}}], 'file_attributes': {}}, '2.jpeg4669': {'filename': '2.jpeg', 'size': 4669, 'regions': [{'shape_attributes': {'name': 'rect', 'x': 6, 'y': 39, 'width': 150, 'height': 107}, 'region_attributes': {'class': {'dog': True}}}, {'shape_attributes': {'name': 'rect', 'x': 160, 'y': 77, 'width': 99, 'height': 65}, 'region_attributes': {'class': {'cat': True}}}], 'file_attributes': {}}, '3.jpeg6828': {'filename': '3.jpeg', 'size': 6828, 'regions': [{'shape_attributes': {'name': 'rect', 'x': 57, 'y': 3, 'width': 186, 'height': 141}, 'region_attributes': {'class': {'cat': True}}}], 'file_attributes': {}}, '4.jpeg198685': {'filename': '4.jpeg', 'size': 198685, 'regions': [{'shape_attributes': {'name': 'rect', 'x': 85, 'y': 307, 'width': 830, 'height': 1442}, 'region_attributes': {'class': {'cat': True}}}], 'file_attributes': {}}, '5.jpeg54509': {'filename': '5.jpeg', 'size': 54509, 'regions': [{'shape_attributes': {'name': 'rect', 'x': 33, 'y': 65, 'width': 735, 'height': 738}, 'region_attributes': {'class': {'dog': True}}}], 'file_attributes': {}}, '6.jpeg60092': {'filename': '6.jpeg', 'size': 60092, 'regions': [{'shape_attributes': {'name': 'rect', 'x': 89, 'y': 55, 'width': 140, 'height': 190}, 'region_attributes': {'class': {'dog': True}}}, {'shape_attributes': {'name': 'rect', 'x': 242, 'y': 142, 'width': 167, 'height': 115}, 'region_attributes': {'class': {'cat': True}}}], 'file_attributes': {}}, '7.jpeg394361': {'filename': '7.jpeg', 'size': 394361, 'regions': [{'shape_attributes': {'name': 'rect', 'x': 612, 'y': 192, 'width': 269, 'height': 234}, 'region_attributes': {'class': {'dog': True}}}, {'shape_attributes': {'name': 'rect', 'x': 321, 'y': 252, 'width': 267, 'height': 162}, 'region_attributes': {'class': {'cat': True}}}], 'file_attributes': {}}}, '_via_attributes': {'region': {'class': {'type': 'checkbox', 'description': '', 'options': {'\"\"': '', 'cat': '', 'dog': ''}, 'default_options': {}}}, 'file': {}}}\n"
     ]
    }
   ],
   "source": [
    "#load annotation file\n",
    "with open('cat_dog/cat_dog_annotations.json', 'r') as f:\n",
    "    data = json.load(f)\n",
    "    print(data)"
   ]
  },
  {
   "cell_type": "code",
   "execution_count": 3,
   "id": "bb78a703",
   "metadata": {},
   "outputs": [],
   "source": [
    "#coco format initialization\n",
    "coco_data = {\n",
    "    'info': {},\n",
    "    'licenses': [],\n",
    "    'cetagories': [],\n",
    "    'images': [],\n",
    "    'annotations': []\n",
    "    \n",
    "}"
   ]
  },
  {
   "cell_type": "code",
   "execution_count": 4,
   "id": "4730876f",
   "metadata": {},
   "outputs": [],
   "source": [
    "#cetagory id\n",
    "cat_id_map = {'dog': 1, 'cat': 2}"
   ]
  },
  {
   "cell_type": "code",
   "execution_count": 5,
   "id": "fad66088",
   "metadata": {},
   "outputs": [],
   "source": [
    "#add cetagories to coco format\n",
    "for cat_name, cat_id in cat_id_map.items():\n",
    "    coco_data['cetagories'].append({\n",
    "        'id': cat_id,\n",
    "        'name': cat_name,\n",
    "        'supercetagory': \"\"\n",
    "    })\n",
    "    "
   ]
  },
  {
   "cell_type": "code",
   "execution_count": 6,
   "id": "82e07941",
   "metadata": {},
   "outputs": [],
   "source": [
    "#add via annotation to coco format\n",
    "image_id = 1\n",
    "annotation_id = 1\n",
    "#add image to coco format\n",
    "for filename, image_data in data['_via_img_metadata'].items():\n",
    "    image_width = image_data['regions'][0]['shape_attributes']['width']\n",
    "    image_height = image_data['regions'][0]['shape_attributes']['height']\n",
    "    coco_data['images'].append({\n",
    "        'id': image_id,\n",
    "        'file_name': filename,\n",
    "        'width': image_width,\n",
    "        'height': image_height,\n",
    "        'data_captured': '',\n",
    "        'license': 0,\n",
    "        'flicker_url': '',\n",
    "        'coco_640_url': '',\n",
    "        'flicker_1024_url': '',\n",
    "        'coro_1024_url': ''\n",
    "    })\n",
    "    image_id += 1\n"
   ]
  },
  {
   "cell_type": "code",
   "execution_count": 7,
   "id": "21b66a65",
   "metadata": {},
   "outputs": [],
   "source": [
    "#add regions to coco format\n",
    "for region in image_data['regions']:\n",
    "    cetagory = list(region['region_attributes']['class'].keys())[0]\n",
    "    x, y, w, h = region['shape_attributes']['x'], region['shape_attributes']['y'], region['shape_attributes']['width'], region['shape_attributes']['height']\n",
    "    coco_data['annotations'].append({\n",
    "        'id': annotation_id,\n",
    "        'image_id': image_id,\n",
    "        'cetagory_id': cat_id_map[cetagory],\n",
    "        'segmentation': [],\n",
    "        'area': w * h,\n",
    "        'bbox': [x, y, w, h],\n",
    "        'iscrowd': 0\n",
    "    })\n",
    "    annotation_id += 1"
   ]
  },
  {
   "cell_type": "code",
   "execution_count": 8,
   "id": "82f684c8",
   "metadata": {},
   "outputs": [],
   "source": [
    "#save coco format to dictionary\n",
    "with open('coco_annot.json', 'w') as f:\n",
    "    json.dump(coco_data, f)"
   ]
  },
  {
   "cell_type": "code",
   "execution_count": null,
   "id": "f0e6638a",
   "metadata": {},
   "outputs": [],
   "source": []
  }
 ],
 "metadata": {
  "kernelspec": {
   "display_name": "Python 3 (ipykernel)",
   "language": "python",
   "name": "python3"
  },
  "language_info": {
   "codemirror_mode": {
    "name": "ipython",
    "version": 3
   },
   "file_extension": ".py",
   "mimetype": "text/x-python",
   "name": "python",
   "nbconvert_exporter": "python",
   "pygments_lexer": "ipython3",
   "version": "3.9.13"
  }
 },
 "nbformat": 4,
 "nbformat_minor": 5
}
